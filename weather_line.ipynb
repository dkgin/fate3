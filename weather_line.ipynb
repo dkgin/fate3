{
  "cells": [
    {
      "cell_type": "markdown",
      "metadata": {
        "id": "view-in-github",
        "colab_type": "text"
      },
      "source": [
        "<a href=\"https://colab.research.google.com/github/dkgin/fate3/blob/main/weather_line.ipynb\" target=\"_parent\"><img src=\"https://colab.research.google.com/assets/colab-badge.svg\" alt=\"Open In Colab\"/></a>"
      ]
    },
    {
      "cell_type": "code",
      "execution_count": 1,
      "metadata": {
        "colab": {
          "base_uri": "https://localhost:8080/"
        },
        "id": "S02KaN-ec5Yv",
        "outputId": "baad4730-1d6a-45b3-ebae-c4ee19a52221"
      },
      "outputs": [
        {
          "output_type": "stream",
          "name": "stdout",
          "text": [
            "Mounted at /content/drive\n"
          ]
        }
      ],
      "source": [
        "#連動自己帳號的 Google Drive，並在指定目錄下建立 ngrok 相關目錄\n",
        "from google.colab import drive\n",
        "drive.mount('/content/drive', force_remount=True)\n",
        "\n",
        "!mkdir -p /drive\n",
        "#umount /drive\n",
        "!mount --bind /content/drive/My\\ Drive /drive\n",
        "!mkdir -p /drive/ngrok-ssh\n",
        "!mkdir -p ~/.ssh"
      ]
    },
    {
      "cell_type": "code",
      "execution_count": 2,
      "metadata": {
        "colab": {
          "base_uri": "https://localhost:8080/"
        },
        "id": "5A8_yC_rc577",
        "outputId": "0fc7130c-f238-4165-ee85-7cba58d6ca2c"
      },
      "outputs": [
        {
          "output_type": "stream",
          "name": "stdout",
          "text": [
            "/drive/ngrok-ssh\n",
            "--2024-01-25 14:52:59--  https://bin.equinox.io/c/4VmDzA7iaHb/ngrok-stable-linux-amd64.zip\n",
            "Resolving bin.equinox.io (bin.equinox.io)... 54.237.133.81, 52.202.168.65, 18.205.222.128, ...\n",
            "Connecting to bin.equinox.io (bin.equinox.io)|54.237.133.81|:443... connected.\n",
            "HTTP request sent, awaiting response... 200 OK\n",
            "Length: 13921656 (13M) [application/octet-stream]\n",
            "Saving to: ‘ngrok-stable-linux-amd64.zip’\n",
            "\n",
            "ngrok-stable-linux- 100%[===================>]  13.28M  20.9MB/s    in 0.6s    \n",
            "\n",
            "2024-01-25 14:53:00 (20.9 MB/s) - ‘ngrok-stable-linux-amd64.zip’ saved [13921656/13921656]\n",
            "\n",
            "Archive:  ngrok-stable-linux-amd64.zip\n"
          ]
        }
      ],
      "source": [
        "#下載 ngrok 的 ssh 檔案，並自動解壓縮放到指定的目錄下，目的在於要讓 ngrok 網站認證身份。\n",
        "!mkdir -p /drive/ngrok-ssh\n",
        "%cd /drive/ngrok-ssh\n",
        "!wget https://bin.equinox.io/c/4VmDzA7iaHb/ngrok-stable-linux-amd64.zip -O ngrok-stable-linux-amd64.zip\n",
        "!unzip -u ngrok-stable-linux-amd64.zip\n",
        "!cp /drive/ngrok-ssh/ngrok /ngrok\n",
        "!chmod +x /ngrok"
      ]
    },
    {
      "cell_type": "code",
      "execution_count": 3,
      "metadata": {
        "colab": {
          "base_uri": "https://localhost:8080/"
        },
        "id": "jrceLqnic8IR",
        "outputId": "7c968e6e-f822-4900-e2f7-66bbbd8bd849"
      },
      "outputs": [
        {
          "output_type": "stream",
          "name": "stdout",
          "text": [
            "Authtoken saved to configuration file: /root/.ngrok2/ngrok.yml\n"
          ]
        }
      ],
      "source": [
        "#輸入 ngrok token\n",
        "!/ngrok authtoken 2aU1e79cEJaC0o3AkbfbR1c1nDi_5EMpYx9u2jPtQq6ZC4Zud"
      ]
    },
    {
      "cell_type": "code",
      "execution_count": 4,
      "metadata": {
        "colab": {
          "base_uri": "https://localhost:8080/"
        },
        "id": "wXFwGgP4c-ZC",
        "outputId": "a9ecbc8b-899f-4e94-84a5-5d2a4205a1b4"
      },
      "outputs": [
        {
          "output_type": "stream",
          "name": "stdout",
          "text": [
            "Collecting flask_ngrok\n",
            "  Downloading flask_ngrok-0.0.25-py3-none-any.whl (3.1 kB)\n",
            "Requirement already satisfied: Flask>=0.8 in /usr/local/lib/python3.10/dist-packages (from flask_ngrok) (2.2.5)\n",
            "Requirement already satisfied: requests in /usr/local/lib/python3.10/dist-packages (from flask_ngrok) (2.31.0)\n",
            "Requirement already satisfied: Werkzeug>=2.2.2 in /usr/local/lib/python3.10/dist-packages (from Flask>=0.8->flask_ngrok) (3.0.1)\n",
            "Requirement already satisfied: Jinja2>=3.0 in /usr/local/lib/python3.10/dist-packages (from Flask>=0.8->flask_ngrok) (3.1.3)\n",
            "Requirement already satisfied: itsdangerous>=2.0 in /usr/local/lib/python3.10/dist-packages (from Flask>=0.8->flask_ngrok) (2.1.2)\n",
            "Requirement already satisfied: click>=8.0 in /usr/local/lib/python3.10/dist-packages (from Flask>=0.8->flask_ngrok) (8.1.7)\n",
            "Requirement already satisfied: charset-normalizer<4,>=2 in /usr/local/lib/python3.10/dist-packages (from requests->flask_ngrok) (3.3.2)\n",
            "Requirement already satisfied: idna<4,>=2.5 in /usr/local/lib/python3.10/dist-packages (from requests->flask_ngrok) (3.6)\n",
            "Requirement already satisfied: urllib3<3,>=1.21.1 in /usr/local/lib/python3.10/dist-packages (from requests->flask_ngrok) (2.0.7)\n",
            "Requirement already satisfied: certifi>=2017.4.17 in /usr/local/lib/python3.10/dist-packages (from requests->flask_ngrok) (2023.11.17)\n",
            "Requirement already satisfied: MarkupSafe>=2.0 in /usr/local/lib/python3.10/dist-packages (from Jinja2>=3.0->Flask>=0.8->flask_ngrok) (2.1.4)\n",
            "Installing collected packages: flask_ngrok\n",
            "Successfully installed flask_ngrok-0.0.25\n",
            "Collecting line-bot-sdk\n",
            "  Downloading line_bot_sdk-3.7.0-py2.py3-none-any.whl (748 kB)\n",
            "\u001b[2K     \u001b[90m━━━━━━━━━━━━━━━━━━━━━━━━━━━━━━━━━━━━━━━━\u001b[0m \u001b[32m748.7/748.7 kB\u001b[0m \u001b[31m6.3 MB/s\u001b[0m eta \u001b[36m0:00:00\u001b[0m\n",
            "\u001b[?25hRequirement already satisfied: requests==2.31.0 in /usr/local/lib/python3.10/dist-packages (from line-bot-sdk) (2.31.0)\n",
            "Requirement already satisfied: urllib3<3,>=2.0.5 in /usr/local/lib/python3.10/dist-packages (from line-bot-sdk) (2.0.7)\n",
            "Requirement already satisfied: aiohttp==3.9.1 in /usr/local/lib/python3.10/dist-packages (from line-bot-sdk) (3.9.1)\n",
            "Requirement already satisfied: future in /usr/local/lib/python3.10/dist-packages (from line-bot-sdk) (0.18.3)\n",
            "Collecting pydantic<3,>=2.0.3 (from line-bot-sdk)\n",
            "  Downloading pydantic-2.5.3-py3-none-any.whl (381 kB)\n",
            "\u001b[2K     \u001b[90m━━━━━━━━━━━━━━━━━━━━━━━━━━━━━━━━━━━━━━━━\u001b[0m \u001b[32m381.9/381.9 kB\u001b[0m \u001b[31m8.6 MB/s\u001b[0m eta \u001b[36m0:00:00\u001b[0m\n",
            "\u001b[?25hCollecting aenum>=3.1.11 (from line-bot-sdk)\n",
            "  Downloading aenum-3.1.15-py3-none-any.whl (137 kB)\n",
            "\u001b[2K     \u001b[90m━━━━━━━━━━━━━━━━━━━━━━━━━━━━━━━━━━━━━━━━\u001b[0m \u001b[32m137.6/137.6 kB\u001b[0m \u001b[31m15.6 MB/s\u001b[0m eta \u001b[36m0:00:00\u001b[0m\n",
            "\u001b[?25hRequirement already satisfied: python-dateutil>=2.5.3 in /usr/local/lib/python3.10/dist-packages (from line-bot-sdk) (2.8.2)\n",
            "Collecting Deprecated (from line-bot-sdk)\n",
            "  Downloading Deprecated-1.2.14-py2.py3-none-any.whl (9.6 kB)\n",
            "Requirement already satisfied: attrs>=17.3.0 in /usr/local/lib/python3.10/dist-packages (from aiohttp==3.9.1->line-bot-sdk) (23.2.0)\n",
            "Requirement already satisfied: multidict<7.0,>=4.5 in /usr/local/lib/python3.10/dist-packages (from aiohttp==3.9.1->line-bot-sdk) (6.0.4)\n",
            "Requirement already satisfied: yarl<2.0,>=1.0 in /usr/local/lib/python3.10/dist-packages (from aiohttp==3.9.1->line-bot-sdk) (1.9.4)\n",
            "Requirement already satisfied: frozenlist>=1.1.1 in /usr/local/lib/python3.10/dist-packages (from aiohttp==3.9.1->line-bot-sdk) (1.4.1)\n",
            "Requirement already satisfied: aiosignal>=1.1.2 in /usr/local/lib/python3.10/dist-packages (from aiohttp==3.9.1->line-bot-sdk) (1.3.1)\n",
            "Requirement already satisfied: async-timeout<5.0,>=4.0 in /usr/local/lib/python3.10/dist-packages (from aiohttp==3.9.1->line-bot-sdk) (4.0.3)\n",
            "Requirement already satisfied: charset-normalizer<4,>=2 in /usr/local/lib/python3.10/dist-packages (from requests==2.31.0->line-bot-sdk) (3.3.2)\n",
            "Requirement already satisfied: idna<4,>=2.5 in /usr/local/lib/python3.10/dist-packages (from requests==2.31.0->line-bot-sdk) (3.6)\n",
            "Requirement already satisfied: certifi>=2017.4.17 in /usr/local/lib/python3.10/dist-packages (from requests==2.31.0->line-bot-sdk) (2023.11.17)\n",
            "Collecting annotated-types>=0.4.0 (from pydantic<3,>=2.0.3->line-bot-sdk)\n",
            "  Downloading annotated_types-0.6.0-py3-none-any.whl (12 kB)\n",
            "Collecting pydantic-core==2.14.6 (from pydantic<3,>=2.0.3->line-bot-sdk)\n",
            "  Downloading pydantic_core-2.14.6-cp310-cp310-manylinux_2_17_x86_64.manylinux2014_x86_64.whl (2.1 MB)\n",
            "\u001b[2K     \u001b[90m━━━━━━━━━━━━━━━━━━━━━━━━━━━━━━━━━━━━━━━━\u001b[0m \u001b[32m2.1/2.1 MB\u001b[0m \u001b[31m14.6 MB/s\u001b[0m eta \u001b[36m0:00:00\u001b[0m\n",
            "\u001b[?25hCollecting typing-extensions>=4.6.1 (from pydantic<3,>=2.0.3->line-bot-sdk)\n",
            "  Downloading typing_extensions-4.9.0-py3-none-any.whl (32 kB)\n",
            "Requirement already satisfied: six>=1.5 in /usr/local/lib/python3.10/dist-packages (from python-dateutil>=2.5.3->line-bot-sdk) (1.16.0)\n",
            "Requirement already satisfied: wrapt<2,>=1.10 in /usr/local/lib/python3.10/dist-packages (from Deprecated->line-bot-sdk) (1.14.1)\n",
            "Installing collected packages: aenum, typing-extensions, Deprecated, annotated-types, pydantic-core, pydantic, line-bot-sdk\n",
            "  Attempting uninstall: typing-extensions\n",
            "    Found existing installation: typing_extensions 4.5.0\n",
            "    Uninstalling typing_extensions-4.5.0:\n",
            "      Successfully uninstalled typing_extensions-4.5.0\n",
            "  Attempting uninstall: pydantic\n",
            "    Found existing installation: pydantic 1.10.14\n",
            "    Uninstalling pydantic-1.10.14:\n",
            "      Successfully uninstalled pydantic-1.10.14\n",
            "\u001b[31mERROR: pip's dependency resolver does not currently take into account all the packages that are installed. This behaviour is the source of the following dependency conflicts.\n",
            "lida 0.0.10 requires fastapi, which is not installed.\n",
            "lida 0.0.10 requires kaleido, which is not installed.\n",
            "lida 0.0.10 requires python-multipart, which is not installed.\n",
            "lida 0.0.10 requires uvicorn, which is not installed.\n",
            "llmx 0.0.15a0 requires cohere, which is not installed.\n",
            "llmx 0.0.15a0 requires openai, which is not installed.\n",
            "llmx 0.0.15a0 requires tiktoken, which is not installed.\n",
            "tensorflow-probability 0.22.0 requires typing-extensions<4.6.0, but you have typing-extensions 4.9.0 which is incompatible.\u001b[0m\u001b[31m\n",
            "\u001b[0mSuccessfully installed Deprecated-1.2.14 aenum-3.1.15 annotated-types-0.6.0 line-bot-sdk-3.7.0 pydantic-2.5.3 pydantic-core-2.14.6 typing-extensions-4.9.0\n"
          ]
        }
      ],
      "source": [
        "#安裝 flask_ngrok 函式庫\n",
        "!pip install flask_ngrok\n",
        "#安裝 LINE BOT 函式庫\n",
        "!pip install line-bot-sdk"
      ]
    },
    {
      "cell_type": "code",
      "execution_count": 5,
      "metadata": {
        "id": "JAoVbcKfa3qX"
      },
      "outputs": [],
      "source": [
        "from flask_ngrok import run_with_ngrok\n",
        "from flask import Flask, request\n",
        "# 載入 LINE Message API 相關函式庫\n",
        "from linebot import LineBotApi, WebhookHandler\n",
        "from linebot.models import MessageEvent, TextMessage, TextSendMessage\n",
        "# 載入 json 標準函式庫，處理回傳的資料格式\n",
        "import requests, json, time, statistics"
      ]
    },
    {
      "cell_type": "code",
      "execution_count": 11,
      "metadata": {
        "colab": {
          "base_uri": "https://localhost:8080/"
        },
        "id": "agJvgxbYckl9",
        "outputId": "07cedc83-1179-44ce-da13-6e640037bd8b"
      },
      "outputs": [
        {
          "output_type": "stream",
          "name": "stdout",
          "text": [
            " * Serving Flask app '__main__'\n",
            " * Debug mode: off\n"
          ]
        },
        {
          "output_type": "stream",
          "name": "stderr",
          "text": [
            "INFO:werkzeug:\u001b[31m\u001b[1mWARNING: This is a development server. Do not use it in a production deployment. Use a production WSGI server instead.\u001b[0m\n",
            " * Running on http://127.0.0.1:5000\n",
            "INFO:werkzeug:\u001b[33mPress CTRL+C to quit\u001b[0m\n"
          ]
        },
        {
          "output_type": "stream",
          "name": "stdout",
          "text": [
            " * Running on http://ed71-34-106-222-238.ngrok-free.app\n",
            " * Traffic stats available on http://127.0.0.1:4040\n"
          ]
        },
        {
          "output_type": "stream",
          "name": "stderr",
          "text": [
            "<ipython-input-11-d9c757f9d7a3>:10: LineBotSdkDeprecatedIn30: Call to deprecated class LineBotApi. (Use v3 class; linebot.v3.<feature>. See https://github.com/line/line-bot-sdk-python/blob/master/README.rst for more details.) -- Deprecated since version 3.0.0.\n",
            "  line_bot_api = LineBotApi(access_token)               # 確認 token 是否正確\n",
            "<ipython-input-11-d9c757f9d7a3>:11: LineBotSdkDeprecatedIn30: Call to deprecated class WebhookHandler. (Use 'from linebot.v3.webhook import WebhookHandler' instead. See https://github.com/line/line-bot-sdk-python/blob/master/README.rst for more details.) -- Deprecated since version 3.0.0.\n",
            "  handler = WebhookHandler(channel_secret)              # 確認 secret 是否正確\n",
            "INFO:werkzeug:127.0.0.1 - - [25/Jan/2024 15:04:34] \"POST / HTTP/1.1\" 200 -\n"
          ]
        },
        {
          "output_type": "stream",
          "name": "stdout",
          "text": [
            "Error: list index out of range\n",
            "{'destination': 'Uc18de40248732fb00bd321e4d948f7f3', 'events': [{'type': 'message', 'message': {'type': 'text', 'id': '492182758198608343', 'quoteToken': 'AQ3jmeOnb6hHu6ceWUVgsKBh_vIosfWumyy9VjdgCUhvzc1RdnCXcbY2du8EQhYF3lMY-SsPo0mKraxcD1A6XXvlOX2yNHROKvaSbLkYEAbvACyW_CcUxAb_ZO1lJyFN7zazD4T5JShmqcHL4q9DCQ', 'text': '北投區'}, 'webhookEventId': '01HN0JDXE9DGSQ3GG8ZZGXAYED', 'deliveryContext': {'isRedelivery': False}, 'timestamp': 1706195088746, 'source': {'type': 'user', 'userId': 'U25d3c86ec67cd7c658eb48113ebd70d7'}, 'replyToken': '0909e12d5a45463f98742db809ee6371', 'mode': 'active'}]}\n"
          ]
        },
        {
          "output_type": "stream",
          "name": "stderr",
          "text": [
            "INFO:werkzeug:127.0.0.1 - - [25/Jan/2024 15:04:52] \"POST / HTTP/1.1\" 200 -\n"
          ]
        },
        {
          "output_type": "stream",
          "name": "stdout",
          "text": [
            "{\"sentMessages\":[{\"id\":\"492182762191847601\",\"quoteToken\":\"lYImOz2k02UZjqCeyOa47QNlxQTQT5Oko8hBg7TcHbyIfhB5D9P1Qpo5kpA_BJfqlXrk6ugoVgJWEhZB7viRDimAuZiZPAw6Gt7L2rTlEjr90Vn3kfBZbIKoIhE98qkJv4iu9peZP1S7j7m-7ZkNXA\"}]}\n",
            "{'destination': 'Uc18de40248732fb00bd321e4d948f7f3', 'events': [{'type': 'message', 'message': {'type': 'location', 'id': '492182781972185297', 'latitude': 25.112846, 'longitude': 121.511023, 'title': '千造環保興業', 'address': '台北市北投區自強街5巷116弄13號2樓'}, 'webhookEventId': '01HN0JEB4SGJZGSWDBNQCJ49YW', 'deliveryContext': {'isRedelivery': False}, 'timestamp': 1706195102853, 'source': {'type': 'user', 'userId': 'U25d3c86ec67cd7c658eb48113ebd70d7'}, 'replyToken': 'c2a8dd1e09b2499083303554057e3f43', 'mode': 'active'}]}\n"
          ]
        },
        {
          "output_type": "stream",
          "name": "stderr",
          "text": [
            "INFO:werkzeug:127.0.0.1 - - [25/Jan/2024 15:05:06] \"POST / HTTP/1.1\" 200 -\n"
          ]
        },
        {
          "output_type": "stream",
          "name": "stdout",
          "text": [
            "{\"sentMessages\":[{\"id\":\"492182787811180563\",\"quoteToken\":\"Quk3oYE5sQIHIosOwju1IhTuyvDguglXANubskq7B7sss7gr_jd9vmcDY9dRD7DeEe2YLFvB0mP-Rnot2cQvdBBNcxGEfuLM-InOjfa0hdP-B9YKAwN3Yn3ku_pmusfqtQGpFQc3D3fFAkBKZrOdBA\"}]}\n",
            "臺北市北投區自強街5巷116弄13號2樓\n",
            "{'destination': 'Uc18de40248732fb00bd321e4d948f7f3', 'events': [{'type': 'message', 'message': {'type': 'text', 'id': '492182882283159942', 'quoteToken': 'f56qa9KqPfuImSL0p4IFcnnL2C-hwZpZXf1gE5VKNV-BFkdy6Y7tGFC6XacKxGOslvrUN-b9Jqh20Ty-CAmOZNuseYzdpnaVe6oN37HAuXmJlslZ-iG7CFh7CFa7R3CooXgFpv1rE1SQx85MILMkCQ', 'text': '雷達回波'}, 'webhookEventId': '01HN0JG62F1DRRCDC1CDGYE87T', 'deliveryContext': {'isRedelivery': False}, 'timestamp': 1706195162737, 'source': {'type': 'user', 'userId': 'U25d3c86ec67cd7c658eb48113ebd70d7'}, 'replyToken': 'dcff197559434b159efe27fe8a706bcc', 'mode': 'active'}]}\n"
          ]
        },
        {
          "output_type": "stream",
          "name": "stderr",
          "text": [
            "INFO:werkzeug:127.0.0.1 - - [25/Jan/2024 15:06:04] \"POST / HTTP/1.1\" 200 -\n"
          ]
        },
        {
          "output_type": "stream",
          "name": "stdout",
          "text": [
            "{\"sentMessages\":[{\"id\":\"492182884984815748\",\"quoteToken\":\"lHIIjR6HnOHHofpihwc7vWuk6cyXaS11dKk-itaisp7BxWp5AJV6UBsoLBx-Gc_TbzgY0l7Be_y3xwHKJoxpLPA8j0BTywlyy5pR8IaTmPzIBTeqfOEt4g3umzzHvPqz6odoTYclxdFwjcBM0aPDGg\"}]}\n"
          ]
        }
      ],
      "source": [
        "app = Flask(__name__)\n",
        "\n",
        "access_token = 'Nkju9l/a0p1IXBDaeUpUABJhA3DY4ek/zS2pW3AMUYoagBuTXvHMEdrheBOuL3q5Ty/k6+11UFTihIzd5+SqciLoKNYI/gG0XM6cpW+jB0OlcbvqgSvWF1aD2GbWl96FW9tPNdeK0+TZobRLmeciOQdB04t89/1O/w1cDnyilFU='\n",
        "channel_secret = 'fd20299c1f5e9dfc7a89330b458ce6b2'\n",
        "\n",
        "@app.route(\"/\", methods=['POST'])\n",
        "def linebot():\n",
        "  body = request.get_data(as_text=True)    # 取得收到的訊息內容\n",
        "  try:\n",
        "    line_bot_api = LineBotApi(access_token)               # 確認 token 是否正確\n",
        "    handler = WebhookHandler(channel_secret)              # 確認 secret 是否正確\n",
        "    signature = request.headers['X-Line-Signature']       # 加入回傳的 headers\n",
        "    handler.handle(body, signature)                       # 綁定訊息回傳的相關資訊\n",
        "    json_data = json.loads(body)                          # 轉換內容為 json 格式\n",
        "    reply_token = json_data['events'][0]['replyToken']    # 取得回傳訊息的 Token ( reply message 使用 )\n",
        "    user_id = json_data['events'][0]['source']['userId']  # 取得使用者 ID ( push message 使用 )\n",
        "    print(json_data)                         # 印出內容\n",
        "    if 'message' in json_data['events'][0]:           # 如果傳送的是 message\n",
        "      if json_data['events'][0]['message']['type'] == 'location':                    # 如果 message 的類型是地圖 location\n",
        "        address = json_data['events'][0]['message']['address'].replace('台','臺')   # 取出地址資訊，並將「台」換成「臺」\n",
        "        reply_message(f'{address}\\n\\n{current_weather(address)}\\n\\n{forecast(address)}', reply_token, access_token)\n",
        "        print(address)\n",
        "      if json_data['events'][0]['message']['type'] == 'text':   # 如果 message 的類型是文字 text\n",
        "        text = json_data['events'][0]['message']['text']      # 取出文字\n",
        "        if text == '雷達回波圖' or text == '雷達回波':           # 如果是雷達回波圖相關的文字\n",
        "                # 傳送雷達回波圖 ( 加上時間戳記 )\n",
        "          reply_image(f'https://cwaopendata.s3.ap-northeast-1.amazonaws.com/Observation/O-A0058-001.png?{time.time_ns()}', reply_token, access_token)\n",
        "        elif text == '地震資訊' or text == '地震':        # 如果是地震相關的文字\n",
        "          msg = earth_quake()   # 爬取地震資訊\n",
        "          push_message(msg[0], user_id, access_token)       # 傳送地震資訊 ( 用 push 方法，因為 reply 只能用一次 )\n",
        "          reply_image(msg[1], reply_token, access_token)    # 傳送地震圖片 ( 用 reply 方法 )\n",
        "        else:\n",
        "          reply_message(text, reply_token, access_token)        # 如果是一般文字，直接回覆同樣的文字\n",
        "  except Exception as e:\n",
        "    print(f\"Error: {e}\")                       # 如果發生錯誤，印出 error\n",
        "  return 'OK'                              # 驗證 Webhook 使用，不能省略\n",
        "\n",
        "if __name__ == \"__main__\":\n",
        "  run_with_ngrok(app)                        # 串連 ngrok 服務\n",
        "  app.run()\n",
        "\n",
        "# 地震資訊函式\n",
        "def earth_quake():\n",
        "  msg = ['找不到地震資訊','https://example.com/demo.jpg']            # 預設回傳的訊息\n",
        "  try:\n",
        "    code = 'CWA-C7DED748-AB01-46ED-B03D-3730BA31B6B0'\n",
        "    url = f'https://opendata.cwa.gov.tw/api/v1/rest/datastore/E-A0016-001?Authorization={code}'\n",
        "    e_data = requests.get(url)                                   # 爬取地震資訊網址\n",
        "    e_data_json = e_data.json()                                  # json 格式化訊息內容\n",
        "    eq = e_data_json['records']['Earthquake']                    # 取出地震資訊\n",
        "    for i in eq:\n",
        "      loc = i['EarthquakeInfo']['Epicenter']['Location']       # 地震地點\n",
        "      val = i['EarthquakeInfo']['EarthquakeMagnitude']['MagnitudeValue'] # 地震規模\n",
        "      dep = i['EarthquakeInfo']['FocalDepth']              # 地震深度\n",
        "      eq_time = i['EarthquakeInfo']['OriginTime']              # 地震時間\n",
        "      img = i['ReportImageURI']                                # 地震圖\n",
        "      msg = [f'{loc}，芮氏規模 {val} 級，深度 {dep} 公里，發生時間 {eq_time}。', img]\n",
        "      break     # 取出第一筆資料後就 break\n",
        "    return msg    # 回傳 msg\n",
        "  except:\n",
        "    return msg    # 如果取資料有發生錯誤，直接回傳 msg\n",
        "\n",
        "# LINE push 訊息函式\n",
        "def push_message(msg, uid, token):\n",
        "  headers = {'Authorization':f'Bearer {token}','Content-Type':'application/json'}\n",
        "  body = {\n",
        "  'to':uid,\n",
        "  'messages':[{\n",
        "      \"type\": \"text\",\n",
        "      \"text\": msg\n",
        "      }]\n",
        "  }\n",
        "  req = requests.request('POST', 'https://api.line.me/v2/bot/message/push', headers=headers,data=json.dumps(body).encode('utf-8'))\n",
        "  print(req.text)\n",
        "\n",
        "# LINE 回傳訊息函式\n",
        "def reply_message(msg, rk, token):\n",
        "  headers = {'Authorization':f'Bearer {token}','Content-Type':'application/json'}\n",
        "  body = {\n",
        "  'replyToken':rk,\n",
        "  'messages':[{\n",
        "      \"type\": \"text\",\n",
        "      \"text\": msg\n",
        "      }]\n",
        "  }\n",
        "  req = requests.request('POST', 'https://api.line.me/v2/bot/message/reply', headers=headers,data=json.dumps(body).encode('utf-8'))\n",
        "  print(req.text)\n",
        "\n",
        "\n",
        "# LINE 回傳圖片函式\n",
        "def reply_image(msg, rk, token):\n",
        "  headers = {'Authorization':f'Bearer {token}','Content-Type':'application/json'}\n",
        "  body = {\n",
        "  'replyToken':rk,\n",
        "  'messages':[{\n",
        "      'type': 'image',\n",
        "      'originalContentUrl': msg,\n",
        "      'previewImageUrl': msg\n",
        "      }]\n",
        "  }\n",
        "  req = requests.request('POST', 'https://api.line.me/v2/bot/message/reply', headers=headers,data=json.dumps(body).encode('utf-8'))\n",
        "  print(req.text)\n",
        "\n",
        "# 目前天氣函式\n",
        "def current_weather(address):\n",
        "  city_list, area_list, area_list2 = {}, {}, {} # 定義好待會要用的變數\n",
        "  msg = '找不到氣象資訊。'                         # 預設回傳訊息\n",
        "\n",
        "  # 定義取得資料的函式\n",
        "  def get_data(url):\n",
        "    w_data = requests.get(url)   # 爬取目前天氣網址的資料\n",
        "    w_data_json = w_data.json()  # json 格式化訊息內容\n",
        "    location = w_data_json[\"records\"][\"Station\"]  # 取出對應地點的內容\n",
        "    for i in location:\n",
        "      name = i[\"StationName\"]                       # 測站地點\n",
        "      city = i[\"GeoInfo\"][\"CountyName\"]     # 縣市名稱\n",
        "      area = i[\"GeoInfo\"][\"TownName\"]     # 鄉鎮行政區\n",
        "      temp = check_data(i[\"WeatherElement\"][\"AirTemperature\"])                       # 氣溫\n",
        "      humd = check_data(round(float(i[\"WeatherElement\"][\"RelativeHumidity\"] ) ,1)) # 相對濕度\n",
        "      if area not in area_list:\n",
        "        area_list[area] = {'temp':temp, 'humd':humd}  # 以鄉鎮區域為 key，儲存需要的資訊\n",
        "      if city not in city_list:\n",
        "        city_list[city] = {'temp':[], 'humd':[]}       # 以主要縣市名稱為 key，準備紀錄裡面所有鄉鎮的數值\n",
        "      city_list[city]['temp'].append(temp)   # 記錄主要縣市裡鄉鎮區域的溫度 ( 串列格式 )\n",
        "      city_list[city]['humd'].append(humd)   # 記錄主要縣市裡鄉鎮區域的濕度 ( 串列格式 )\n",
        "\n",
        "  # 定義如果數值小於 0，回傳 False 的函式\n",
        "  def check_data(e):\n",
        "    return False if float(e)<0 else float(e)\n",
        "\n",
        "  # 定義產生回傳訊息的函式\n",
        "  def msg_content(loc, msg):\n",
        "    a = msg\n",
        "    for i in loc:\n",
        "      if i in address:  # 如果地址裡存在 key 的名稱\n",
        "        temp = f\"氣溫 {loc[i]['temp']} 度，\" if loc[i]['temp'] != False else ''\n",
        "        humd = f\"相對濕度 {loc[i]['humd']}%，\" if loc[i]['humd'] != False else ''\n",
        "        description = f'{temp}{humd}'.strip('，')\n",
        "        a = f'{description}。' # 取出 key 的內容作為回傳訊息使用\n",
        "        break\n",
        "    return a\n",
        "\n",
        "  try:\n",
        "        # 因為目前天氣有兩組網址，兩組都爬取\n",
        "    code = 'CWA-C7DED748-AB01-46ED-B03D-3730BA31B6B0'\n",
        "    get_data(f'https://opendata.cwa.gov.tw/api/v1/rest/datastore/O-A0001-001?Authorization={code}&format=JSON')\n",
        "    get_data(f'https://opendata.cwa.gov.tw/api/v1/rest/datastore/O-A0003-001?Authorization={code}&format=JSON')\n",
        "\n",
        "    for i in city_list:\n",
        "      if i not in area_list2: # 將主要縣市裡的數值平均後，以主要縣市名稱為 key，再度儲存一次，如果找不到鄉鎮區域，就使用平均數值\n",
        "        area_list2[i] = {'temp':round(statistics.mean(city_list[i]['temp']),1),\n",
        "                         'humd':round(statistics.mean(city_list[i]['humd']),1)\n",
        "                          }\n",
        "    msg = msg_content(area_list2, msg)  # 將訊息改為「大縣市」\n",
        "    msg = msg_content(area_list, msg)   # 將訊息改為「鄉鎮區域」\n",
        "    return msg    # 回傳 msg\n",
        "  except:\n",
        "    return msg    # 如果取資料有發生錯誤，直接回傳 msg\n",
        "\n",
        "def forecast(address):\n",
        "  area_list = {}\n",
        "  # 將主要縣市個別的 JSON 代碼列出\n",
        "  json_api = {\"宜蘭縣\":\"F-D0047-001\",\"桃園市\":\"F-D0047-005\",\"新竹縣\":\"F-D0047-009\",\"苗栗縣\":\"F-D0047-013\",\n",
        "              \"彰化縣\":\"F-D0047-017\",\"南投縣\":\"F-D0047-021\",\"雲林縣\":\"F-D0047-025\",\"嘉義縣\":\"F-D0047-029\",\n",
        "              \"屏東縣\":\"F-D0047-033\",\"臺東縣\":\"F-D0047-037\",\"花蓮縣\":\"F-D0047-041\",\"澎湖縣\":\"F-D0047-045\",\n",
        "              \"基隆市\":\"F-D0047-049\",\"新竹市\":\"F-D0047-053\",\"嘉義市\":\"F-D0047-057\",\"臺北市\":\"F-D0047-061\",\n",
        "              \"高雄市\":\"F-D0047-065\",\"新北市\":\"F-D0047-069\",\"臺中市\":\"F-D0047-073\",\"臺南市\":\"F-D0047-077\",\n",
        "              \"連江縣\":\"F-D0047-081\",\"金門縣\":\"F-D0047-085\"}\n",
        "  msg = '找不到天氣預報資訊。'    # 預設回傳訊息\n",
        "  try:\n",
        "    code = 'CWA-C7DED748-AB01-46ED-B03D-3730BA31B6B0'\n",
        "    url = f'https://opendata.cwa.gov.tw/api/v1/rest/datastore/F-C0032-001?Authorization={code}&format=JSON'\n",
        "    f_data = requests.get(url)   # 取得主要縣市預報資料\n",
        "    f_data_json = f_data.json()  # json 格式化訊息內容\n",
        "    location = f_data_json[\"records\"]['location']  # 取得縣市的預報內容\n",
        "    for i in location:\n",
        "      city = i['locationName']    # 縣市名稱\n",
        "      wx8 = i['weatherElement'][0]['time'][0]['parameter']['parameterName']    # 天氣現象\n",
        "      mint8 = i['weatherElement'][2]['time'][0]['parameter']['parameterName']  # 最低溫\n",
        "      maxt8 = i['weatherElement'][4]['time'][0]['parameter']['parameterName']  # 最高溫\n",
        "      ci8 = i['weatherElement'][3]['time'][0]['parameter']['parameterName']    # 舒適度\n",
        "      pop8 = i['weatherElement'][1]['time'][0]['parameter']['parameterName']   # 降雨機率\n",
        "      area_list[city] = f'未來 8 小時{wx8}，最高溫 {maxt8} 度，最低溫 {mint8} 度，降雨機率 {pop8} %'  # 組合成回傳的訊息，存在以縣市名稱為 key 的字典檔裡\n",
        "    for i in area_list:\n",
        "      if i in address:        # 如果使用者的地址包含縣市名稱\n",
        "        msg = area_list[i]  # 將 msg 換成對應的預報資訊\n",
        "        # 將進一步的預報網址換成對應的預報網址\n",
        "        url = f'https://opendata.cwa.gov.tw/api/v1/rest/datastore/{json_api[i]}?Authorization={code}&elementName=WeatherDescription'\n",
        "        f_data = requests.get(url)  # 取得主要縣市裡各個區域鄉鎮的氣象預報\n",
        "        f_data_json = f_data.json() # json 格式化訊息內容\n",
        "        location = f_data_json['records']['locations'][0]['location']    # 取得預報內容\n",
        "        break\n",
        "    for i in location:\n",
        "      city = i['locationName']   # 取得縣市名稱\n",
        "      wd = i['weatherElement'][0]['time'][1]['elementValue'][0]['value']  # 綜合描述\n",
        "      if city in address:           # 如果使用者的地址包含鄉鎮區域名稱\n",
        "        msg = f'未來八小時天氣{wd}' # 將 msg 換成對應的預報資訊\n",
        "        break\n",
        "    return msg  # 回傳 msg\n",
        "  except:\n",
        "    return msg  # 如果取資料有發生錯誤，直接回傳 msg\n"
      ]
    }
  ],
  "metadata": {
    "colab": {
      "provenance": [],
      "authorship_tag": "ABX9TyN21pyZ0pGsFPTeuWYn+VW3",
      "include_colab_link": true
    },
    "kernelspec": {
      "display_name": "Python 3",
      "name": "python3"
    },
    "language_info": {
      "name": "python"
    }
  },
  "nbformat": 4,
  "nbformat_minor": 0
}